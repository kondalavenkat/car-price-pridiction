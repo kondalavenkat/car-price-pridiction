{
 "cells": [
  {
   "cell_type": "markdown",
   "id": "9e907d83-ac87-4994-89c8-21ac077a1834",
   "metadata": {},
   "source": [
    "# Model Experiments\n",
    "\n",
    "In this notebook, we will train various machine learning algorithms on our dataset. This problem is a regression problem."
   ]
  },
  {
   "cell_type": "markdown",
   "id": "70587534-7148-40bf-a705-44c8c22f017d",
   "metadata": {},
   "source": [
    "## Importing required packages and Importing the data"
   ]
  },
  {
   "cell_type": "code",
   "execution_count": 1,
   "id": "b2a2e27f-4223-4bea-8d60-393b215d1841",
   "metadata": {
    "is_executing": true
   },
   "outputs": [],
   "source": [
    "import warnings\n",
    "\n",
    "import numpy as np\n",
    "import pandas as pd\n",
    "from catboost import CatBoostRegressor\n",
    "from sklearn.compose import ColumnTransformer\n",
    "from sklearn.ensemble import RandomForestRegressor, GradientBoostingRegressor, AdaBoostRegressor\n",
    "from sklearn.linear_model import LinearRegression, ElasticNet, Ridge, Lasso\n",
    "from sklearn.metrics import mean_squared_error\n",
    "from sklearn.model_selection import train_test_split\n",
    "from sklearn.preprocessing import StandardScaler, OneHotEncoder\n",
    "from sklearn.tree import DecisionTreeRegressor\n",
    "from xgboost import XGBRegressor\n",
    "\n",
    "warnings.filterwarnings(\"ignore\")"
   ]
  },
  {
   "cell_type": "code",
   "execution_count": 2,
   "id": "08616326-c223-4931-8bc1-cce61d4d6676",
   "metadata": {
    "is_executing": true
   },
   "outputs": [
    {
     "data": {
      "text/html": [
       "<div>\n",
       "<style scoped>\n",
       "    .dataframe tbody tr th:only-of-type {\n",
       "        vertical-align: middle;\n",
       "    }\n",
       "\n",
       "    .dataframe tbody tr th {\n",
       "        vertical-align: top;\n",
       "    }\n",
       "\n",
       "    .dataframe thead th {\n",
       "        text-align: right;\n",
       "    }\n",
       "</style>\n",
       "<table border=\"1\" class=\"dataframe\">\n",
       "  <thead>\n",
       "    <tr style=\"text-align: right;\">\n",
       "      <th></th>\n",
       "      <th>Year</th>\n",
       "      <th>Distance</th>\n",
       "      <th>Owner</th>\n",
       "      <th>Fuel</th>\n",
       "      <th>Drive</th>\n",
       "      <th>Type</th>\n",
       "      <th>State</th>\n",
       "      <th>Brand</th>\n",
       "      <th>Model Name</th>\n",
       "      <th>Price(k)</th>\n",
       "    </tr>\n",
       "  </thead>\n",
       "  <tbody>\n",
       "    <tr>\n",
       "      <th>0</th>\n",
       "      <td>2022</td>\n",
       "      <td>3878</td>\n",
       "      <td>1</td>\n",
       "      <td>PETROL</td>\n",
       "      <td>Manual</td>\n",
       "      <td>HatchBack</td>\n",
       "      <td>HR</td>\n",
       "      <td>Maruti</td>\n",
       "      <td>S</td>\n",
       "      <td>514</td>\n",
       "    </tr>\n",
       "    <tr>\n",
       "      <th>1</th>\n",
       "      <td>2018</td>\n",
       "      <td>32041</td>\n",
       "      <td>1</td>\n",
       "      <td>PETROL</td>\n",
       "      <td>Manual</td>\n",
       "      <td>Sedan</td>\n",
       "      <td>TN</td>\n",
       "      <td>Hyundai</td>\n",
       "      <td>Xcent</td>\n",
       "      <td>674</td>\n",
       "    </tr>\n",
       "    <tr>\n",
       "      <th>2</th>\n",
       "      <td>2021</td>\n",
       "      <td>96339</td>\n",
       "      <td>1</td>\n",
       "      <td>DIESEL</td>\n",
       "      <td>Automatic</td>\n",
       "      <td>SUV</td>\n",
       "      <td>TS</td>\n",
       "      <td>Tata</td>\n",
       "      <td>Safari</td>\n",
       "      <td>1952</td>\n",
       "    </tr>\n",
       "    <tr>\n",
       "      <th>3</th>\n",
       "      <td>2019</td>\n",
       "      <td>51718</td>\n",
       "      <td>1</td>\n",
       "      <td>DIESEL</td>\n",
       "      <td>Manual</td>\n",
       "      <td>SUV</td>\n",
       "      <td>WB</td>\n",
       "      <td>Maruti</td>\n",
       "      <td>Vitara</td>\n",
       "      <td>690</td>\n",
       "    </tr>\n",
       "    <tr>\n",
       "      <th>4</th>\n",
       "      <td>2021</td>\n",
       "      <td>19811</td>\n",
       "      <td>1</td>\n",
       "      <td>PETROL</td>\n",
       "      <td>Manual</td>\n",
       "      <td>HatchBack</td>\n",
       "      <td>HR</td>\n",
       "      <td>Tata</td>\n",
       "      <td>Tiago</td>\n",
       "      <td>526</td>\n",
       "    </tr>\n",
       "  </tbody>\n",
       "</table>\n",
       "</div>"
      ],
      "text/plain": [
       "   Year  Distance  Owner    Fuel      Drive       Type State    Brand  \\\n",
       "0  2022      3878      1  PETROL     Manual  HatchBack    HR   Maruti   \n",
       "1  2018     32041      1  PETROL     Manual      Sedan    TN  Hyundai   \n",
       "2  2021     96339      1  DIESEL  Automatic        SUV    TS     Tata   \n",
       "3  2019     51718      1  DIESEL     Manual        SUV    WB   Maruti   \n",
       "4  2021     19811      1  PETROL     Manual  HatchBack    HR     Tata   \n",
       "\n",
       "  Model Name  Price(k)  \n",
       "0          S       514  \n",
       "1      Xcent       674  \n",
       "2     Safari      1952  \n",
       "3     Vitara       690  \n",
       "4      Tiago       526  "
      ]
     },
     "execution_count": 2,
     "metadata": {},
     "output_type": "execute_result"
    }
   ],
   "source": [
    "# Importing the data\n",
    "data = pd.read_csv(\"../data/data_preprocessed.csv\")\n",
    "data.head()"
   ]
  },
  {
   "cell_type": "code",
   "execution_count": 3,
   "id": "7db1965b1ffac2b1",
   "metadata": {
    "collapsed": false,
    "is_executing": true,
    "jupyter": {
     "outputs_hidden": false
    }
   },
   "outputs": [
    {
     "data": {
      "text/html": [
       "<div>\n",
       "<style scoped>\n",
       "    .dataframe tbody tr th:only-of-type {\n",
       "        vertical-align: middle;\n",
       "    }\n",
       "\n",
       "    .dataframe tbody tr th {\n",
       "        vertical-align: top;\n",
       "    }\n",
       "\n",
       "    .dataframe thead th {\n",
       "        text-align: right;\n",
       "    }\n",
       "</style>\n",
       "<table border=\"1\" class=\"dataframe\">\n",
       "  <thead>\n",
       "    <tr style=\"text-align: right;\">\n",
       "      <th></th>\n",
       "      <th>Year</th>\n",
       "      <th>Distance</th>\n",
       "      <th>Owner</th>\n",
       "      <th>Fuel</th>\n",
       "      <th>Drive</th>\n",
       "      <th>Type</th>\n",
       "      <th>State</th>\n",
       "      <th>Brand</th>\n",
       "      <th>Model Name</th>\n",
       "      <th>Price(k)</th>\n",
       "    </tr>\n",
       "  </thead>\n",
       "  <tbody>\n",
       "    <tr>\n",
       "      <th>0</th>\n",
       "      <td>2022</td>\n",
       "      <td>3878</td>\n",
       "      <td>1</td>\n",
       "      <td>PETROL</td>\n",
       "      <td>Manual</td>\n",
       "      <td>HatchBack</td>\n",
       "      <td>HR</td>\n",
       "      <td>Maruti</td>\n",
       "      <td>S</td>\n",
       "      <td>514</td>\n",
       "    </tr>\n",
       "    <tr>\n",
       "      <th>1</th>\n",
       "      <td>2018</td>\n",
       "      <td>32041</td>\n",
       "      <td>1</td>\n",
       "      <td>PETROL</td>\n",
       "      <td>Manual</td>\n",
       "      <td>Sedan</td>\n",
       "      <td>TN</td>\n",
       "      <td>Hyundai</td>\n",
       "      <td>Xcent</td>\n",
       "      <td>674</td>\n",
       "    </tr>\n",
       "    <tr>\n",
       "      <th>2</th>\n",
       "      <td>2021</td>\n",
       "      <td>96339</td>\n",
       "      <td>1</td>\n",
       "      <td>DIESEL</td>\n",
       "      <td>Automatic</td>\n",
       "      <td>SUV</td>\n",
       "      <td>TS</td>\n",
       "      <td>Tata</td>\n",
       "      <td>Safari</td>\n",
       "      <td>1952</td>\n",
       "    </tr>\n",
       "    <tr>\n",
       "      <th>3</th>\n",
       "      <td>2019</td>\n",
       "      <td>51718</td>\n",
       "      <td>1</td>\n",
       "      <td>DIESEL</td>\n",
       "      <td>Manual</td>\n",
       "      <td>SUV</td>\n",
       "      <td>WB</td>\n",
       "      <td>Maruti</td>\n",
       "      <td>Vitara</td>\n",
       "      <td>690</td>\n",
       "    </tr>\n",
       "    <tr>\n",
       "      <th>4</th>\n",
       "      <td>2021</td>\n",
       "      <td>19811</td>\n",
       "      <td>1</td>\n",
       "      <td>PETROL</td>\n",
       "      <td>Manual</td>\n",
       "      <td>HatchBack</td>\n",
       "      <td>HR</td>\n",
       "      <td>Tata</td>\n",
       "      <td>Tiago</td>\n",
       "      <td>526</td>\n",
       "    </tr>\n",
       "  </tbody>\n",
       "</table>\n",
       "</div>"
      ],
      "text/plain": [
       "   Year  Distance  Owner    Fuel      Drive       Type State    Brand  \\\n",
       "0  2022      3878      1  PETROL     Manual  HatchBack    HR   Maruti   \n",
       "1  2018     32041      1  PETROL     Manual      Sedan    TN  Hyundai   \n",
       "2  2021     96339      1  DIESEL  Automatic        SUV    TS     Tata   \n",
       "3  2019     51718      1  DIESEL     Manual        SUV    WB   Maruti   \n",
       "4  2021     19811      1  PETROL     Manual  HatchBack    HR     Tata   \n",
       "\n",
       "  Model Name  Price(k)  \n",
       "0          S       514  \n",
       "1      Xcent       674  \n",
       "2     Safari      1952  \n",
       "3     Vitara       690  \n",
       "4      Tiago       526  "
      ]
     },
     "execution_count": 3,
     "metadata": {},
     "output_type": "execute_result"
    }
   ],
   "source": [
    "data.head()"
   ]
  },
  {
   "cell_type": "code",
   "execution_count": 4,
   "id": "0d04277e-7545-4805-944e-75daa405ec61",
   "metadata": {
    "is_executing": true
   },
   "outputs": [
    {
     "name": "stdout",
     "output_type": "stream",
     "text": [
      "Total Number of samples in our dataset: 7800\n",
      "Features in the dataset: ['Year', 'Distance', 'Owner', 'Fuel', 'Drive', 'Type', 'State', 'Brand', 'Model Name', 'Price(k)']\n"
     ]
    }
   ],
   "source": [
    "# Get basic information about the data\n",
    "print(f\"Total Number of samples in our dataset: {len(data)}\")\n",
    "print(f\"Features in the dataset: {list(data.columns)}\")"
   ]
  },
  {
   "cell_type": "markdown",
   "id": "cd93c9f9-1cca-459b-a799-36f16134e240",
   "metadata": {},
   "source": [
    "## Data Preprocessing \n",
    "\n",
    "This section covers about scaling the data and making data ready for the model"
   ]
  },
  {
   "cell_type": "markdown",
   "id": "03f683ef-d0ac-4664-ab92-c644f939367c",
   "metadata": {},
   "source": [
    "### Splitting the data into features and target"
   ]
  },
  {
   "cell_type": "code",
   "execution_count": 5,
   "id": "ee4058b8-0148-4f05-b8e5-30b80a053523",
   "metadata": {
    "is_executing": true
   },
   "outputs": [
    {
     "data": {
      "text/plain": [
       "(7800, 7800)"
      ]
     },
     "execution_count": 5,
     "metadata": {},
     "output_type": "execute_result"
    }
   ],
   "source": [
    "features, labels = data.drop([\"Price(k)\"], axis=1), data[\"Price(k)\"]\n",
    "len(features), len(labels)"
   ]
  },
  {
   "cell_type": "markdown",
   "id": "fca1985d-551a-41ce-b44d-44dd5c4c7bd9",
   "metadata": {},
   "source": [
    "### Splitting the data into training and validation sets"
   ]
  },
  {
   "cell_type": "code",
   "execution_count": 6,
   "id": "e0901183-e1e4-40ab-a8f6-ca18042a2d61",
   "metadata": {
    "is_executing": true
   },
   "outputs": [
    {
     "data": {
      "text/plain": [
       "(6240, 6240, 1560, 1560)"
      ]
     },
     "execution_count": 6,
     "metadata": {},
     "output_type": "execute_result"
    }
   ],
   "source": [
    "X_train, X_val, y_train, y_val = train_test_split(features, labels, test_size=0.2, random_state=42)\n",
    "len(X_train), len(y_train), len(X_val), len(y_val)"
   ]
  },
  {
   "cell_type": "markdown",
   "id": "fb86ed8a-09d3-4255-b6f2-3ff86e8aaf72",
   "metadata": {},
   "source": [
    "## Data Transformation"
   ]
  },
  {
   "cell_type": "code",
   "execution_count": 7,
   "id": "fc0f65f2-675d-41ed-8be9-e2370f27b8f6",
   "metadata": {
    "is_executing": true
   },
   "outputs": [
    {
     "name": "stdout",
     "output_type": "stream",
     "text": [
      "Index(['Year', 'Distance', 'Owner'], dtype='object')\n",
      "Index(['Fuel', 'Drive', 'Type', 'State', 'Brand', 'Model Name'], dtype='object')\n"
     ]
    }
   ],
   "source": [
    "num_features = features.select_dtypes(exclude=\"object\").columns\n",
    "cat_features = features.select_dtypes(include=\"object\").columns\n",
    "\n",
    "print(num_features)\n",
    "print(cat_features)"
   ]
  },
  {
   "cell_type": "markdown",
   "id": "a32f4c71-9c5d-489e-a201-becb27a4031e",
   "metadata": {},
   "source": [
    "### Create a transformer object and apply it on the data"
   ]
  },
  {
   "cell_type": "code",
   "execution_count": 8,
   "id": "57525483-5414-44db-9604-5eed02b7d80e",
   "metadata": {
    "is_executing": true
   },
   "outputs": [],
   "source": [
    "# Create transformers for numerical and categorical columns\n",
    "num_transformer = StandardScaler()\n",
    "cat_transformer = OneHotEncoder(handle_unknown=\"ignore\", sparse_output=False)\n",
    "\n",
    "# Create preprocessor object\n",
    "preprocessor = ColumnTransformer(\n",
    "    [(\"num_transformer\", num_transformer, num_features),\n",
    "     (\"cat_transformer\", cat_transformer, cat_features)]\n",
    ")\n",
    "\n",
    "# Applying the transformer to the training and validation data\n",
    "X_train = preprocessor.fit_transform(X_train)\n",
    "X_val = preprocessor.transform(X_val)"
   ]
  },
  {
   "cell_type": "code",
   "execution_count": 9,
   "id": "5013c07a-d8e2-4c5b-8cf1-c0c003b2125d",
   "metadata": {},
   "outputs": [
    {
     "data": {
      "text/plain": [
       "((6240, 151), (6240,), (1560, 151), (1560,))"
      ]
     },
     "execution_count": 9,
     "metadata": {},
     "output_type": "execute_result"
    }
   ],
   "source": [
    "X_train.shape, y_train.shape, X_val.shape, y_val.shape"
   ]
  },
  {
   "cell_type": "code",
   "execution_count": 23,
   "id": "e262b7b9-adf5-4031-8e78-be7dee5bd977",
   "metadata": {},
   "outputs": [
    {
     "data": {
      "text/plain": [
       "array(['Fuel_CNG', 'Fuel_DIESEL', 'Fuel_LPG', 'Fuel_PETROL',\n",
       "       'Drive_Automatic', 'Drive_Manual', 'Type_HatchBack',\n",
       "       'Type_Lux_SUV', 'Type_Lux_sedan', 'Type_SUV', 'Type_Sedan',\n",
       "       'State_AP', 'State_BR', 'State_CH', 'State_DL', 'State_GJ',\n",
       "       'State_HR', 'State_KA', 'State_KL', 'State_MH', 'State_MP',\n",
       "       'State_PB', 'State_RJ', 'State_TN', 'State_TS', 'State_UP',\n",
       "       'State_WB', 'Brand_Datsun', 'Brand_Ford', 'Brand_Honda',\n",
       "       'Brand_Hyundai', 'Brand_Jeep', 'Brand_KIA', 'Brand_MG',\n",
       "       'Brand_Mahindra', 'Brand_Maruti', 'Brand_Nissan', 'Brand_Renault',\n",
       "       'Brand_Skoda', 'Brand_Tata', 'Brand_Toyota', 'Brand_Volkswagen',\n",
       "       'Model Name_A', 'Model Name_ALCAZAR', 'Model Name_ALTROZ',\n",
       "       'Model Name_AURA', 'Model Name_Alto', 'Model Name_Amaze',\n",
       "       'Model Name_Ameo', 'Model Name_BOLERO', 'Model Name_BR-V',\n",
       "       'Model Name_BREZZA', 'Model Name_Baleno', 'Model Name_Bolero',\n",
       "       'Model Name_Bolt', 'Model Name_Brio', 'Model Name_CARENS',\n",
       "       'Model Name_CRV', 'Model Name_Camry', 'Model Name_Captur',\n",
       "       'Model Name_Celerio', 'Model Name_Ciaz', 'Model Name_City',\n",
       "       'Model Name_Civic', 'Model Name_Compass', 'Model Name_Corolla',\n",
       "       'Model Name_Creta', 'Model Name_Duster', 'Model Name_Dzire',\n",
       "       'Model Name_Ecosport', 'Model Name_Eeco', 'Model Name_Elite',\n",
       "       'Model Name_Endeavour', 'Model Name_Eon', 'Model Name_Ertiga',\n",
       "       'Model Name_Etios', 'Model Name_FREESTYLE', 'Model Name_Figo',\n",
       "       'Model Name_Fortuner', 'Model Name_GRAND', 'Model Name_Glanza',\n",
       "       'Model Name_Go', 'Model Name_Grand', 'Model Name_HECTOR',\n",
       "       'Model Name_Harrier', 'Model Name_Hexa', 'Model Name_IGNIS',\n",
       "       'Model Name_Innova', 'Model Name_Jazz', 'Model Name_Jetta',\n",
       "       'Model Name_KUSHAQ', 'Model Name_KUV', 'Model Name_Kiger',\n",
       "       'Model Name_Kuv100', 'Model Name_Kwid', 'Model Name_MAGNITE',\n",
       "       'Model Name_MARAZZO', 'Model Name_Micra', 'Model Name_NEW',\n",
       "       'Model Name_NEXON', 'Model Name_New', 'Model Name_OMNI',\n",
       "       'Model Name_Octavia', 'Model Name_PUNCH', 'Model Name_Polo',\n",
       "       'Model Name_Pulse', 'Model Name_Rapid', 'Model Name_Redi',\n",
       "       'Model Name_Ritz', 'Model Name_S', 'Model Name_SELTOS',\n",
       "       'Model Name_SLAVIA', 'Model Name_SONET', 'Model Name_Safari',\n",
       "       'Model Name_Santro', 'Model Name_Scorpio', 'Model Name_Sonata',\n",
       "       'Model Name_Sunny', 'Model Name_Swift', 'Model Name_T-ROC',\n",
       "       'Model Name_TAIGUN', 'Model Name_TIAGO', 'Model Name_TIGOR',\n",
       "       'Model Name_TIGUAN', 'Model Name_TRIBER', 'Model Name_TUV',\n",
       "       'Model Name_TUV300', 'Model Name_Terrano', 'Model Name_Thar',\n",
       "       'Model Name_Tiago', 'Model Name_Tucson', 'Model Name_URBAN',\n",
       "       'Model Name_VENUE', 'Model Name_Vento', 'Model Name_Verna',\n",
       "       'Model Name_Vitara', 'Model Name_WR-V', 'Model Name_Wagon',\n",
       "       'Model Name_XL6', 'Model Name_XUV', 'Model Name_XUV500',\n",
       "       'Model Name_XUV700', 'Model Name_Xcent', 'Model Name_YARIS',\n",
       "       'Model Name_Zen', 'Model Name_Zest', 'Model Name_i10',\n",
       "       'Model Name_i20'], dtype=object)"
      ]
     },
     "execution_count": 23,
     "metadata": {},
     "output_type": "execute_result"
    }
   ],
   "source": [
    "preprocessor.named_transformers_[\"cat_transformer\"].get_feature_names_out(cat_features)"
   ]
  },
  {
   "cell_type": "markdown",
   "id": "165018e9-cf29-45b6-84f7-7599ffa2e93d",
   "metadata": {},
   "source": [
    "## Modelling Experiments"
   ]
  },
  {
   "cell_type": "code",
   "execution_count": 9,
   "id": "8c41c64199700b8a",
   "metadata": {
    "collapsed": false,
    "is_executing": true,
    "jupyter": {
     "outputs_hidden": false
    }
   },
   "outputs": [],
   "source": [
    "def evaluate_model(true, predicted):\n",
    "    return np.sqrt(mean_squared_error(true, predicted))"
   ]
  },
  {
   "cell_type": "code",
   "execution_count": 10,
   "id": "3c6646e5-0a1b-43e2-8862-90ca15f9b147",
   "metadata": {
    "is_executing": true
   },
   "outputs": [],
   "source": [
    "models = {\n",
    "    \"Linear Regression\": LinearRegression(),\n",
    "    \"Elastic Net\": ElasticNet(),\n",
    "    \"Ridge\": Ridge(),\n",
    "    \"Lasso\": Lasso(),\n",
    "    \"RandomForest\": RandomForestRegressor(),\n",
    "    \"Gradient Boosting Regressor\": GradientBoostingRegressor(),\n",
    "    \"Adaboost\": AdaBoostRegressor(),\n",
    "    \"Decision tree\": DecisionTreeRegressor(),\n",
    "    \"Catboost\": CatBoostRegressor(verbose=0),\n",
    "    \"xgboost\": XGBRegressor()\n",
    "}"
   ]
  },
  {
   "cell_type": "code",
   "execution_count": 11,
   "id": "733824aa-ffe9-4f7f-8ed2-622894cebceb",
   "metadata": {
    "is_executing": true
   },
   "outputs": [
    {
     "name": "stdout",
     "output_type": "stream",
     "text": [
      "Linear Regression\n",
      "Model performance on the Training set\n",
      "Root mean squared error: 104.854761\n",
      "-----------------------------------\n",
      "Model performance on the validation set\n",
      "Root mean squared error : 3121305636763.971680\n",
      "===================================\n",
      "\n",
      "\n",
      "Elastic Net\n",
      "Model performance on the Training set\n",
      "Root mean squared error: 192.467055\n",
      "-----------------------------------\n",
      "Model performance on the validation set\n",
      "Root mean squared error : 187.456023\n",
      "===================================\n",
      "\n",
      "\n",
      "Ridge\n",
      "Model performance on the Training set\n",
      "Root mean squared error: 106.287865\n",
      "-----------------------------------\n",
      "Model performance on the validation set\n",
      "Root mean squared error : 106.485684\n",
      "===================================\n",
      "\n",
      "\n",
      "Lasso\n",
      "Model performance on the Training set\n",
      "Root mean squared error: 139.513746\n",
      "-----------------------------------\n",
      "Model performance on the validation set\n",
      "Root mean squared error : 131.312335\n",
      "===================================\n",
      "\n",
      "\n",
      "RandomForest\n",
      "Model performance on the Training set\n",
      "Root mean squared error: 40.882288\n",
      "-----------------------------------\n",
      "Model performance on the validation set\n",
      "Root mean squared error : 99.919221\n",
      "===================================\n",
      "\n",
      "\n",
      "Gradient Boosting Regressor\n",
      "Model performance on the Training set\n",
      "Root mean squared error: 114.542941\n",
      "-----------------------------------\n",
      "Model performance on the validation set\n",
      "Root mean squared error : 117.710089\n",
      "===================================\n",
      "\n",
      "\n",
      "Adaboost\n",
      "Model performance on the Training set\n",
      "Root mean squared error: 207.356524\n",
      "-----------------------------------\n",
      "Model performance on the validation set\n",
      "Root mean squared error : 205.598489\n",
      "===================================\n",
      "\n",
      "\n",
      "Decision tree\n",
      "Model performance on the Training set\n",
      "Root mean squared error: 0.000000\n",
      "-----------------------------------\n",
      "Model performance on the validation set\n",
      "Root mean squared error : 131.723285\n",
      "===================================\n",
      "\n",
      "\n",
      "Catboost\n",
      "Model performance on the Training set\n",
      "Root mean squared error: 78.123335\n",
      "-----------------------------------\n",
      "Model performance on the validation set\n",
      "Root mean squared error : 90.449286\n",
      "===================================\n",
      "\n",
      "\n",
      "xgboost\n",
      "Model performance on the Training set\n",
      "Root mean squared error: 68.299038\n",
      "-----------------------------------\n",
      "Model performance on the validation set\n",
      "Root mean squared error : 94.263818\n",
      "===================================\n",
      "\n",
      "\n"
     ]
    }
   ],
   "source": [
    "model_list = []\n",
    "rmse_list = []\n",
    "\n",
    "for i in range(len(list(models))):\n",
    "    model = list(models.values())[i]\n",
    "\n",
    "    model.fit(X_train, y_train)\n",
    "\n",
    "    # Make predictions\n",
    "    y_train_pred = model.predict(X_train)\n",
    "    y_val_pred = model.predict(X_val)\n",
    "\n",
    "    # Evaluate train and test dataset\n",
    "    train_rmse = evaluate_model(y_train, y_train_pred)\n",
    "    val_rmse = evaluate_model(y_val, y_val_pred)\n",
    "\n",
    "    print(list(models.keys())[i])\n",
    "    model_list.append(list(models.keys())[i])\n",
    "\n",
    "    print(\"Model performance on the Training set\")\n",
    "    print(\"Root mean squared error: {:4f}\".format(train_rmse))\n",
    "\n",
    "    print(\"-\" * 35)\n",
    "    print(\"Model performance on the validation set\")\n",
    "    print(\"Root mean squared error : {:4f}\".format(val_rmse))\n",
    "    rmse_list.append(val_rmse)\n",
    "\n",
    "    print(\"=\" * 35)\n",
    "    print(\"\\n\")"
   ]
  },
  {
   "cell_type": "code",
   "execution_count": 12,
   "id": "89245fcbef49ee71",
   "metadata": {
    "collapsed": false,
    "is_executing": true,
    "jupyter": {
     "outputs_hidden": false
    }
   },
   "outputs": [],
   "source": [
    "pd.set_option('display.float_format', lambda x: '%.5f' % x)\n"
   ]
  },
  {
   "cell_type": "code",
   "execution_count": 13,
   "id": "1ef81b76da311f00",
   "metadata": {
    "collapsed": false,
    "is_executing": true,
    "jupyter": {
     "outputs_hidden": false
    }
   },
   "outputs": [
    {
     "data": {
      "text/html": [
       "<div>\n",
       "<style scoped>\n",
       "    .dataframe tbody tr th:only-of-type {\n",
       "        vertical-align: middle;\n",
       "    }\n",
       "\n",
       "    .dataframe tbody tr th {\n",
       "        vertical-align: top;\n",
       "    }\n",
       "\n",
       "    .dataframe thead th {\n",
       "        text-align: right;\n",
       "    }\n",
       "</style>\n",
       "<table border=\"1\" class=\"dataframe\">\n",
       "  <thead>\n",
       "    <tr style=\"text-align: right;\">\n",
       "      <th></th>\n",
       "      <th>Model Name</th>\n",
       "      <th>RMSE Score</th>\n",
       "    </tr>\n",
       "  </thead>\n",
       "  <tbody>\n",
       "    <tr>\n",
       "      <th>8</th>\n",
       "      <td>Catboost</td>\n",
       "      <td>90.44929</td>\n",
       "    </tr>\n",
       "    <tr>\n",
       "      <th>9</th>\n",
       "      <td>xgboost</td>\n",
       "      <td>94.26382</td>\n",
       "    </tr>\n",
       "    <tr>\n",
       "      <th>4</th>\n",
       "      <td>RandomForest</td>\n",
       "      <td>99.91922</td>\n",
       "    </tr>\n",
       "    <tr>\n",
       "      <th>2</th>\n",
       "      <td>Ridge</td>\n",
       "      <td>106.48568</td>\n",
       "    </tr>\n",
       "    <tr>\n",
       "      <th>5</th>\n",
       "      <td>Gradient Boosting Regressor</td>\n",
       "      <td>117.71009</td>\n",
       "    </tr>\n",
       "    <tr>\n",
       "      <th>3</th>\n",
       "      <td>Lasso</td>\n",
       "      <td>131.31234</td>\n",
       "    </tr>\n",
       "    <tr>\n",
       "      <th>7</th>\n",
       "      <td>Decision tree</td>\n",
       "      <td>131.72328</td>\n",
       "    </tr>\n",
       "    <tr>\n",
       "      <th>1</th>\n",
       "      <td>Elastic Net</td>\n",
       "      <td>187.45602</td>\n",
       "    </tr>\n",
       "    <tr>\n",
       "      <th>6</th>\n",
       "      <td>Adaboost</td>\n",
       "      <td>205.59849</td>\n",
       "    </tr>\n",
       "    <tr>\n",
       "      <th>0</th>\n",
       "      <td>Linear Regression</td>\n",
       "      <td>3121305636763.97168</td>\n",
       "    </tr>\n",
       "  </tbody>\n",
       "</table>\n",
       "</div>"
      ],
      "text/plain": [
       "                    Model Name          RMSE Score\n",
       "8                     Catboost            90.44929\n",
       "9                      xgboost            94.26382\n",
       "4                 RandomForest            99.91922\n",
       "2                        Ridge           106.48568\n",
       "5  Gradient Boosting Regressor           117.71009\n",
       "3                        Lasso           131.31234\n",
       "7                Decision tree           131.72328\n",
       "1                  Elastic Net           187.45602\n",
       "6                     Adaboost           205.59849\n",
       "0            Linear Regression 3121305636763.97168"
      ]
     },
     "execution_count": 13,
     "metadata": {},
     "output_type": "execute_result"
    }
   ],
   "source": [
    "results = pd.DataFrame(zip(model_list, rmse_list), columns=[\"Model Name\", \"RMSE Score\"]).sort_values(by=\"RMSE Score\",\n",
    "                                                                                                     ascending=True)\n",
    "results"
   ]
  },
  {
   "cell_type": "markdown",
   "id": "753e8d33fb8a6290",
   "metadata": {
    "collapsed": false,
    "jupyter": {
     "outputs_hidden": false
    }
   },
   "source": [
    "Catboost is the best performing model\n",
    "## Get the best performing model"
   ]
  },
  {
   "cell_type": "code",
   "execution_count": 14,
   "id": "980df923925b04ae",
   "metadata": {
    "collapsed": false,
    "is_executing": true,
    "jupyter": {
     "outputs_hidden": false
    }
   },
   "outputs": [
    {
     "name": "stdout",
     "output_type": "stream",
     "text": [
      " Root mean square error of the model is 90.45\n"
     ]
    }
   ],
   "source": [
    "cat_boost = CatBoostRegressor(verbose=False)\n",
    "catboost = cat_boost.fit(X_train, y_train)\n",
    "y_pred = cat_boost.predict(X_val)\n",
    "score = evaluate_model(y_val, y_pred)\n",
    "print(\" Root mean square error of the model is %.2f\" % score)"
   ]
  },
  {
   "cell_type": "markdown",
   "id": "6e8c3e5f3152696b",
   "metadata": {
    "collapsed": false,
    "jupyter": {
     "outputs_hidden": false
    }
   },
   "source": [
    "Find the difference between the actual price and best performing model prediction"
   ]
  },
  {
   "cell_type": "code",
   "execution_count": 15,
   "id": "8153b6c60ba60508",
   "metadata": {
    "collapsed": false,
    "is_executing": true,
    "jupyter": {
     "outputs_hidden": false
    }
   },
   "outputs": [
    {
     "data": {
      "text/html": [
       "<div>\n",
       "<style scoped>\n",
       "    .dataframe tbody tr th:only-of-type {\n",
       "        vertical-align: middle;\n",
       "    }\n",
       "\n",
       "    .dataframe tbody tr th {\n",
       "        vertical-align: top;\n",
       "    }\n",
       "\n",
       "    .dataframe thead th {\n",
       "        text-align: right;\n",
       "    }\n",
       "</style>\n",
       "<table border=\"1\" class=\"dataframe\">\n",
       "  <thead>\n",
       "    <tr style=\"text-align: right;\">\n",
       "      <th></th>\n",
       "      <th>Actual Value</th>\n",
       "      <th>Predicted Value</th>\n",
       "      <th>Difference</th>\n",
       "    </tr>\n",
       "  </thead>\n",
       "  <tbody>\n",
       "    <tr>\n",
       "      <th>2114</th>\n",
       "      <td>603</td>\n",
       "      <td>602.65411</td>\n",
       "      <td>0.34589</td>\n",
       "    </tr>\n",
       "    <tr>\n",
       "      <th>2080</th>\n",
       "      <td>1531</td>\n",
       "      <td>1395.54914</td>\n",
       "      <td>135.45086</td>\n",
       "    </tr>\n",
       "    <tr>\n",
       "      <th>1078</th>\n",
       "      <td>714</td>\n",
       "      <td>759.32030</td>\n",
       "      <td>-45.32030</td>\n",
       "    </tr>\n",
       "    <tr>\n",
       "      <th>5395</th>\n",
       "      <td>514</td>\n",
       "      <td>533.86182</td>\n",
       "      <td>-19.86182</td>\n",
       "    </tr>\n",
       "    <tr>\n",
       "      <th>101</th>\n",
       "      <td>281</td>\n",
       "      <td>287.37380</td>\n",
       "      <td>-6.37380</td>\n",
       "    </tr>\n",
       "    <tr>\n",
       "      <th>...</th>\n",
       "      <td>...</td>\n",
       "      <td>...</td>\n",
       "      <td>...</td>\n",
       "    </tr>\n",
       "    <tr>\n",
       "      <th>6304</th>\n",
       "      <td>577</td>\n",
       "      <td>584.00376</td>\n",
       "      <td>-7.00376</td>\n",
       "    </tr>\n",
       "    <tr>\n",
       "      <th>4984</th>\n",
       "      <td>555</td>\n",
       "      <td>542.88700</td>\n",
       "      <td>12.11300</td>\n",
       "    </tr>\n",
       "    <tr>\n",
       "      <th>2685</th>\n",
       "      <td>767</td>\n",
       "      <td>674.51168</td>\n",
       "      <td>92.48832</td>\n",
       "    </tr>\n",
       "    <tr>\n",
       "      <th>5934</th>\n",
       "      <td>667</td>\n",
       "      <td>624.96433</td>\n",
       "      <td>42.03567</td>\n",
       "    </tr>\n",
       "    <tr>\n",
       "      <th>3477</th>\n",
       "      <td>436</td>\n",
       "      <td>424.04134</td>\n",
       "      <td>11.95866</td>\n",
       "    </tr>\n",
       "  </tbody>\n",
       "</table>\n",
       "<p>1560 rows × 3 columns</p>\n",
       "</div>"
      ],
      "text/plain": [
       "      Actual Value  Predicted Value  Difference\n",
       "2114           603        602.65411     0.34589\n",
       "2080          1531       1395.54914   135.45086\n",
       "1078           714        759.32030   -45.32030\n",
       "5395           514        533.86182   -19.86182\n",
       "101            281        287.37380    -6.37380\n",
       "...            ...              ...         ...\n",
       "6304           577        584.00376    -7.00376\n",
       "4984           555        542.88700    12.11300\n",
       "2685           767        674.51168    92.48832\n",
       "5934           667        624.96433    42.03567\n",
       "3477           436        424.04134    11.95866\n",
       "\n",
       "[1560 rows x 3 columns]"
      ]
     },
     "execution_count": 15,
     "metadata": {},
     "output_type": "execute_result"
    }
   ],
   "source": [
    "pred_df = pd.DataFrame({'Actual Value': y_val, 'Predicted Value': y_pred, 'Difference': y_val - y_pred})\n",
    "pred_df"
   ]
  }
 ],
 "metadata": {
  "kernelspec": {
   "display_name": "Python 3 (ipykernel)",
   "language": "python",
   "name": "python3"
  },
  "language_info": {
   "codemirror_mode": {
    "name": "ipython",
    "version": 3
   },
   "file_extension": ".py",
   "mimetype": "text/x-python",
   "name": "python",
   "nbconvert_exporter": "python",
   "pygments_lexer": "ipython3",
   "version": "3.10.13"
  }
 },
 "nbformat": 4,
 "nbformat_minor": 5
}
