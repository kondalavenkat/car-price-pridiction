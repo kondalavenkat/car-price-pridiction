{
 "cells": [
  {
   "cell_type": "markdown",
   "source": [
    "# CarValueML: An AI driven car price prediction application\n",
    "\n",
    "This notebook contains the deep learning implementation of the project car price prediction. We will use various neural networks in Tensorflow to predict the prices of cars"
   ],
   "metadata": {
    "collapsed": false
   },
   "id": "c13413417464e389"
  },
  {
   "cell_type": "markdown",
   "source": [
    "## Importing required libraries and data"
   ],
   "metadata": {
    "collapsed": false
   },
   "id": "45f16f766527da98"
  },
  {
   "cell_type": "code",
   "execution_count": null,
   "outputs": [],
   "source": [
    "import numpy as np\n",
    "import pandas as pd\n",
    "\n",
    "from sklearn.model_selection import train_test_split\n",
    "from sklearn.preprocessing import OneHotEncoder, StandardScaler\n",
    "from sklearn.compose import ColumnTransformer\n",
    "\n",
    "import tensorflow as tf\n",
    "from tensorflow import keras\n",
    "from keras.layers import Dense"
   ],
   "metadata": {
    "collapsed": false
   },
   "id": "96330a6c2a9b76c1"
  }
 ],
 "metadata": {
  "kernelspec": {
   "display_name": "Python 3",
   "language": "python",
   "name": "python3"
  },
  "language_info": {
   "codemirror_mode": {
    "name": "ipython",
    "version": 2
   },
   "file_extension": ".py",
   "mimetype": "text/x-python",
   "name": "python",
   "nbconvert_exporter": "python",
   "pygments_lexer": "ipython2",
   "version": "2.7.6"
  }
 },
 "nbformat": 4,
 "nbformat_minor": 5
}
